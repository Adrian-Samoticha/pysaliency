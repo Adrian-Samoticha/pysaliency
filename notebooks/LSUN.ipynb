{
 "cells": [
  {
   "cell_type": "markdown",
   "metadata": {},
   "source": [
    "# LSUN Challenge"
   ]
  },
  {
   "cell_type": "markdown",
   "metadata": {},
   "source": [
    "This document describes how to setup and run the python code for the LSUN saliency evaluation"
   ]
  },
  {
   "cell_type": "markdown",
   "metadata": {},
   "source": [
    "## Setup"
   ]
  },
  {
   "cell_type": "markdown",
   "metadata": {},
   "source": [
    "With your favorite python package management tool, install the needed libraries (here shown for `pip`):\n",
    "\n",
    "    pip install numpy scipy theano Cython natsort dill hdf5storage\n",
    "    pip install git+https://github.com/matthias-k/optpy\n",
    "    pip install git+https://github.com/matthias-k/pysaliency\n",
    "\n",
    "If you want to use the SALICON dataset, you also need to install the\n",
    "[SALICON API](https://github.com/NUS-VIP/salicon-api)."
   ]
  },
  {
   "cell_type": "markdown",
   "metadata": {},
   "source": [
    "## Usage\n",
    "\n",
    "start by importing pysaliency:\n",
    "\n",
    "    import pysaliency\n",
    "\n",
    "you probably also want to load the LSUN datasets:\n",
    "\n",
    "    dataset_location = 'datasets' # where to cache datasets\n",
    "    stimuli_salicon_train, fixations_salicon_train = pysaliency.get_SALICON_train(location=dataset_location)\n",
    "    stimuli_salicon_val, fixations_salicon_val = pysaliency.get_SALICON_val(location=dataset_location)\n",
    "    stimuli_salicon_test = pysaliency.get_SALICON_test(location=dataset_location)\n",
    "    \n",
    "    stimuli_isun_train, stimuli_isun_val, stimuli_isun_test, fixations_isun_train, fixations_isun_val = pysaliency.get_iSUN(location=dataset_location)"
   ]
  },
  {
   "cell_type": "code",
   "execution_count": 4,
   "metadata": {
    "collapsed": true
   },
   "outputs": [],
   "source": [
    "# TODO: Add ModelFromDirectory for log densities\n",
    "# TODO: Change defaults for saliency map convertor (at least in LSUN subclass)\n",
    "# TODO: Write fit functions optimize_for_information_gain(model, stimuli, fixations)"
   ]
  },
  {
   "cell_type": "markdown",
   "metadata": {},
   "source": [
    "### Import your saliency model into pysaliency\n",
    "\n",
    "If you did not develop your model in the pysaliency framework, you have to import the generated saliencymaps or log-densities into pysaliency. If you have the saliency maps saved to an directory with names corresponding to the stimuli\n",
    "filenames, use `pysaliency.SaliencyMapModelFromDirectory`. You can save your saliency maps as png, jpg, tiff, mat or npy files."
   ]
  },
  {
   "cell_type": "code",
   "execution_count": null,
   "metadata": {
    "collapsed": true
   },
   "outputs": [],
   "source": [
    "my_model = pysaliency.SaliencyMapModelFromDirectory(stimuli_salicon_train, \"my_model/saliency_maps/SALICON_TRAIN\")"
   ]
  },
  {
   "cell_type": "markdown",
   "metadata": {},
   "source": [
    "If you have an LSUN submission file prepared, you can load it with `pysaliency.SaliencyMapModelFromDirectory`:"
   ]
  },
  {
   "cell_type": "code",
   "execution_count": null,
   "metadata": {
    "collapsed": true
   },
   "outputs": [],
   "source": [
    "my_model = pysaliency.SaliencyMapModelFromFile(stimuli_salicon_train, \"my_model/salicon_train.mat\")"
   ]
  },
  {
   "cell_type": "markdown",
   "metadata": {},
   "source": [
    "### Evaluate your model"
   ]
  },
  {
   "cell_type": "markdown",
   "metadata": {},
   "source": [
    "Evaluating your model with pysaliency is fairly easy. In general, the evaluation functions take the stimuli and fixations to evaluate on, and maybe some additional configuration parameters. The following metrics are used in the LSUN saliency challenge (additionaly, the information gain metric is used, see below):"
   ]
  },
  {
   "cell_type": "code",
   "execution_count": null,
   "metadata": {
    "collapsed": true
   },
   "outputs": [],
   "source": [
    "my_model.AUC(stimuli_salicon_train, fixations_salicon_train, nonfixations='uniform')\n",
    "my_model.AUC(stimuli_salicon_train, fixations_salicon_train, nonfixations='shuffled')"
   ]
  },
  {
   "cell_type": "markdown",
   "metadata": {},
   "source": [
    "### Optimize your model for information gain"
   ]
  },
  {
   "cell_type": "markdown",
   "metadata": {},
   "source": [
    "If you wish to hand in a probabilistic model, you might wish to optimize the model for the nonlinearity and centerbiases\n",
    "of the datasets. Otherwise we will optimize all saliency map models for information gain using a subset of the iSUN dataset using the following code. Feel free to adapt it to your needs (for example, use more images for fitting)."
   ]
  },
  {
   "cell_type": "code",
   "execution_count": null,
   "metadata": {
    "collapsed": true
   },
   "outputs": [],
   "source": [
    "my_probabilistic_model = pysaliency.SaliencyMapConvertor(my_model, ...)\n",
    "fit_stimuli, fit_fixations = pysaliency.create_subset(stimuli_isun_train, fixations_isun_train, range(0, 500))\n",
    "my_probabilistic_model = pysaliency.optimize_for_information_gain\n",
    "    my_model, fit_stimuli, fit_fixations,\n",
    "    num_nonlinearity=20,\n",
    "    num_centerbias=12,\n",
    "    optimize=[\n",
    "        'nonlinearity',\n",
    "        'centerbias',\n",
    "        'alpha',\n",
    "        #'blurradius', # we do not optimize the bluring.\n",
    "    ])"
   ]
  },
  {
   "cell_type": "markdown",
   "metadata": {},
   "source": [
    "### hand in your model"
   ]
  },
  {
   "cell_type": "code",
   "execution_count": null,
   "metadata": {
    "collapsed": true
   },
   "outputs": [],
   "source": []
  }
 ],
 "metadata": {
  "kernelspec": {
   "display_name": "Python 3",
   "language": "python",
   "name": "python3"
  },
  "language_info": {
   "codemirror_mode": {
    "name": "ipython",
    "version": 3
   },
   "file_extension": ".py",
   "mimetype": "text/x-python",
   "name": "python",
   "nbconvert_exporter": "python",
   "pygments_lexer": "ipython3",
   "version": "3.5.1+"
  }
 },
 "nbformat": 4,
 "nbformat_minor": 0
}
